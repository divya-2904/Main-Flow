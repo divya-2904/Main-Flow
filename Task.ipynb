{
 "cells": [
  {
   "cell_type": "code",
   "execution_count": 1,
   "id": "b1ec7b42-f6d8-4f95-9b89-6e3c30f59caa",
   "metadata": {},
   "outputs": [
    {
     "name": "stdout",
     "output_type": "stream",
     "text": [
      "Updated Dictionary : {'name': 'Divya', 'city': 'Bangalore', 'gender': 'female'}\n"
     ]
    }
   ],
   "source": [
    "#creating a dictionary\n",
    "\n",
    "my_dict={'name':'Divya' , 'age':20 , 'city': 'Delhi'}\n",
    "\n",
    "#adding\n",
    "my_dict['gender'] = 'female'\n",
    "\n",
    "#removing\n",
    "del my_dict['age']\n",
    "\n",
    "#modifying\n",
    "my_dict['city']='Bangalore'\n",
    "\n",
    "print(\"Updated Dictionary :\",my_dict)"
   ]
  },
  {
   "cell_type": "code",
   "execution_count": 2,
   "id": "80df77b8-1dc2-4e05-accb-31e8b688910b",
   "metadata": {},
   "outputs": [
    {
     "name": "stdout",
     "output_type": "stream",
     "text": [
      "updated set: {2, 3, 4, 444, 44}\n"
     ]
    }
   ],
   "source": [
    "#creating a set\n",
    "my_set = {1,2,3,4,5}\n",
    "\n",
    "#adding\n",
    "my_set.add(44)\n",
    "\n",
    "#removing\n",
    "my_set.remove(5)\n",
    "\n",
    "#modifying\n",
    "my_set.discard(1)\n",
    "my_set.add(444)\n",
    "\n",
    "print(\"updated set:\",my_set)"
   ]
  },
  {
   "cell_type": "code",
   "execution_count": 3,
   "id": "ed647bb3-ea5a-4e4e-b6db-6309bb534118",
   "metadata": {},
   "outputs": [
    {
     "name": "stdout",
     "output_type": "stream",
     "text": [
      "updated list: [10, 2, 4, 5, 6]\n"
     ]
    }
   ],
   "source": [
    "#creating a list\n",
    "my_list = [1,2,3,4,5]\n",
    "\n",
    "#adding\n",
    "my_list.append(6)\n",
    "\n",
    "#removing\n",
    "my_list.remove(3)\n",
    "\n",
    "#modify\n",
    "my_list[0]=10\n",
    "\n",
    "print(\"updated list:\",my_list)"
   ]
  },
  {
   "cell_type": "code",
   "execution_count": null,
   "id": "2a32f5d2-9951-4661-bb8d-d5f5fc9e55dc",
   "metadata": {},
   "outputs": [],
   "source": []
  }
 ],
 "metadata": {
  "kernelspec": {
   "display_name": "Python 3 (ipykernel)",
   "language": "python",
   "name": "python3"
  },
  "language_info": {
   "codemirror_mode": {
    "name": "ipython",
    "version": 3
   },
   "file_extension": ".py",
   "mimetype": "text/x-python",
   "name": "python",
   "nbconvert_exporter": "python",
   "pygments_lexer": "ipython3",
   "version": "3.12.3"
  }
 },
 "nbformat": 4,
 "nbformat_minor": 5
}
